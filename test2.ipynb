{
 "cells": [
  {
   "cell_type": "markdown",
   "metadata": {},
   "source": [
    "### Yahoo Finance另一個套件包\n",
    "https://theautomatic.net/yahoo_fin-documentation/#get_income_statement"
   ]
  },
  {
   "cell_type": "code",
   "execution_count": 12,
   "metadata": {},
   "outputs": [
    {
     "ename": "TypeError",
     "evalue": "string indices must be integers",
     "output_type": "error",
     "traceback": [
      "\u001b[1;31m---------------------------------------------------------------------------\u001b[0m",
      "\u001b[1;31mTypeError\u001b[0m                                 Traceback (most recent call last)",
      "Cell \u001b[1;32mIn[12], line 6\u001b[0m\n\u001b[0;32m      1\u001b[0m \u001b[38;5;66;03m# !pip install yahoo_fin\u001b[39;00m\n\u001b[0;32m      2\u001b[0m \u001b[38;5;66;03m# !pip install requests_html\u001b[39;00m\n\u001b[0;32m      5\u001b[0m \u001b[38;5;28;01mimport\u001b[39;00m \u001b[38;5;21;01myahoo_fin\u001b[39;00m\u001b[38;5;21;01m.\u001b[39;00m\u001b[38;5;21;01mstock_info\u001b[39;00m \u001b[38;5;28;01mas\u001b[39;00m \u001b[38;5;21;01msi\u001b[39;00m\n\u001b[1;32m----> 6\u001b[0m msft_data \u001b[38;5;241m=\u001b[39m \u001b[43msi\u001b[49m\u001b[38;5;241;43m.\u001b[39;49m\u001b[43mget_cash_flow\u001b[49m\u001b[43m(\u001b[49m\u001b[38;5;124;43m'\u001b[39;49m\u001b[38;5;124;43mnflx\u001b[39;49m\u001b[38;5;124;43m'\u001b[39;49m\u001b[43m)\u001b[49m[\u001b[38;5;241m0\u001b[39m]\n\u001b[0;32m      7\u001b[0m msft_data\n",
      "File \u001b[1;32mc:\\anaconda\\envs\\pythonStock\\lib\\site-packages\\yahoo_fin\\stock_info.py:467\u001b[0m, in \u001b[0;36mget_cash_flow\u001b[1;34m(ticker, yearly)\u001b[0m\n\u001b[0;32m    464\u001b[0m json_info \u001b[38;5;241m=\u001b[39m _parse_json(cash_flow_site)\n\u001b[0;32m    466\u001b[0m \u001b[38;5;28;01mif\u001b[39;00m yearly:\n\u001b[1;32m--> 467\u001b[0m     temp \u001b[38;5;241m=\u001b[39m \u001b[43mjson_info\u001b[49m\u001b[43m[\u001b[49m\u001b[38;5;124;43m\"\u001b[39;49m\u001b[38;5;124;43mcashflowStatementHistory\u001b[39;49m\u001b[38;5;124;43m\"\u001b[39;49m\u001b[43m]\u001b[49m[\u001b[38;5;124m\"\u001b[39m\u001b[38;5;124mcashflowStatements\u001b[39m\u001b[38;5;124m\"\u001b[39m]\n\u001b[0;32m    468\u001b[0m \u001b[38;5;28;01melse\u001b[39;00m:\n\u001b[0;32m    469\u001b[0m     temp \u001b[38;5;241m=\u001b[39m json_info[\u001b[38;5;124m\"\u001b[39m\u001b[38;5;124mcashflowStatementHistoryQuarterly\u001b[39m\u001b[38;5;124m\"\u001b[39m][\u001b[38;5;124m\"\u001b[39m\u001b[38;5;124mcashflowStatements\u001b[39m\u001b[38;5;124m\"\u001b[39m]\n",
      "\u001b[1;31mTypeError\u001b[0m: string indices must be integers"
     ]
    }
   ],
   "source": [
    "# !pip install yahoo_fin\n",
    "# !pip install requests_html\n",
    "\n",
    "\t\n",
    "import yahoo_fin.stock_info as si\n",
    "msft_data = si.get_cash_flow('nflx')[0]\n",
    "msft_data"
   ]
  },
  {
   "cell_type": "code",
   "execution_count": null,
   "metadata": {},
   "outputs": [],
   "source": []
  }
 ],
 "metadata": {
  "kernelspec": {
   "display_name": "pythonStock",
   "language": "python",
   "name": "python3"
  },
  "language_info": {
   "codemirror_mode": {
    "name": "ipython",
    "version": 3
   },
   "file_extension": ".py",
   "mimetype": "text/x-python",
   "name": "python",
   "nbconvert_exporter": "python",
   "pygments_lexer": "ipython3",
   "version": "3.8.18"
  }
 },
 "nbformat": 4,
 "nbformat_minor": 2
}
